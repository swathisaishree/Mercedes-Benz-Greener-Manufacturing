{
 "cells": [
  {
   "cell_type": "code",
   "execution_count": 1,
   "metadata": {},
   "outputs": [],
   "source": [
    "import pandas as pd \n",
    "import numpy as np"
   ]
  },
  {
   "cell_type": "code",
   "execution_count": 2,
   "metadata": {},
   "outputs": [
    {
     "data": {
      "text/html": [
       "<div>\n",
       "<style scoped>\n",
       "    .dataframe tbody tr th:only-of-type {\n",
       "        vertical-align: middle;\n",
       "    }\n",
       "\n",
       "    .dataframe tbody tr th {\n",
       "        vertical-align: top;\n",
       "    }\n",
       "\n",
       "    .dataframe thead th {\n",
       "        text-align: right;\n",
       "    }\n",
       "</style>\n",
       "<table border=\"1\" class=\"dataframe\">\n",
       "  <thead>\n",
       "    <tr style=\"text-align: right;\">\n",
       "      <th></th>\n",
       "      <th>ID</th>\n",
       "      <th>y</th>\n",
       "      <th>X0</th>\n",
       "      <th>X1</th>\n",
       "      <th>X2</th>\n",
       "      <th>X3</th>\n",
       "      <th>X4</th>\n",
       "      <th>X5</th>\n",
       "      <th>X6</th>\n",
       "      <th>X8</th>\n",
       "      <th>...</th>\n",
       "      <th>X375</th>\n",
       "      <th>X376</th>\n",
       "      <th>X377</th>\n",
       "      <th>X378</th>\n",
       "      <th>X379</th>\n",
       "      <th>X380</th>\n",
       "      <th>X382</th>\n",
       "      <th>X383</th>\n",
       "      <th>X384</th>\n",
       "      <th>X385</th>\n",
       "    </tr>\n",
       "  </thead>\n",
       "  <tbody>\n",
       "    <tr>\n",
       "      <th>0</th>\n",
       "      <td>0</td>\n",
       "      <td>130.81</td>\n",
       "      <td>k</td>\n",
       "      <td>v</td>\n",
       "      <td>at</td>\n",
       "      <td>a</td>\n",
       "      <td>d</td>\n",
       "      <td>u</td>\n",
       "      <td>j</td>\n",
       "      <td>o</td>\n",
       "      <td>...</td>\n",
       "      <td>0</td>\n",
       "      <td>0</td>\n",
       "      <td>1</td>\n",
       "      <td>0</td>\n",
       "      <td>0</td>\n",
       "      <td>0</td>\n",
       "      <td>0</td>\n",
       "      <td>0</td>\n",
       "      <td>0</td>\n",
       "      <td>0</td>\n",
       "    </tr>\n",
       "    <tr>\n",
       "      <th>1</th>\n",
       "      <td>6</td>\n",
       "      <td>88.53</td>\n",
       "      <td>k</td>\n",
       "      <td>t</td>\n",
       "      <td>av</td>\n",
       "      <td>e</td>\n",
       "      <td>d</td>\n",
       "      <td>y</td>\n",
       "      <td>l</td>\n",
       "      <td>o</td>\n",
       "      <td>...</td>\n",
       "      <td>1</td>\n",
       "      <td>0</td>\n",
       "      <td>0</td>\n",
       "      <td>0</td>\n",
       "      <td>0</td>\n",
       "      <td>0</td>\n",
       "      <td>0</td>\n",
       "      <td>0</td>\n",
       "      <td>0</td>\n",
       "      <td>0</td>\n",
       "    </tr>\n",
       "    <tr>\n",
       "      <th>2</th>\n",
       "      <td>7</td>\n",
       "      <td>76.26</td>\n",
       "      <td>az</td>\n",
       "      <td>w</td>\n",
       "      <td>n</td>\n",
       "      <td>c</td>\n",
       "      <td>d</td>\n",
       "      <td>x</td>\n",
       "      <td>j</td>\n",
       "      <td>x</td>\n",
       "      <td>...</td>\n",
       "      <td>0</td>\n",
       "      <td>0</td>\n",
       "      <td>0</td>\n",
       "      <td>0</td>\n",
       "      <td>0</td>\n",
       "      <td>0</td>\n",
       "      <td>1</td>\n",
       "      <td>0</td>\n",
       "      <td>0</td>\n",
       "      <td>0</td>\n",
       "    </tr>\n",
       "    <tr>\n",
       "      <th>3</th>\n",
       "      <td>9</td>\n",
       "      <td>80.62</td>\n",
       "      <td>az</td>\n",
       "      <td>t</td>\n",
       "      <td>n</td>\n",
       "      <td>f</td>\n",
       "      <td>d</td>\n",
       "      <td>x</td>\n",
       "      <td>l</td>\n",
       "      <td>e</td>\n",
       "      <td>...</td>\n",
       "      <td>0</td>\n",
       "      <td>0</td>\n",
       "      <td>0</td>\n",
       "      <td>0</td>\n",
       "      <td>0</td>\n",
       "      <td>0</td>\n",
       "      <td>0</td>\n",
       "      <td>0</td>\n",
       "      <td>0</td>\n",
       "      <td>0</td>\n",
       "    </tr>\n",
       "    <tr>\n",
       "      <th>4</th>\n",
       "      <td>13</td>\n",
       "      <td>78.02</td>\n",
       "      <td>az</td>\n",
       "      <td>v</td>\n",
       "      <td>n</td>\n",
       "      <td>f</td>\n",
       "      <td>d</td>\n",
       "      <td>h</td>\n",
       "      <td>d</td>\n",
       "      <td>n</td>\n",
       "      <td>...</td>\n",
       "      <td>0</td>\n",
       "      <td>0</td>\n",
       "      <td>0</td>\n",
       "      <td>0</td>\n",
       "      <td>0</td>\n",
       "      <td>0</td>\n",
       "      <td>0</td>\n",
       "      <td>0</td>\n",
       "      <td>0</td>\n",
       "      <td>0</td>\n",
       "    </tr>\n",
       "  </tbody>\n",
       "</table>\n",
       "<p>5 rows × 378 columns</p>\n",
       "</div>"
      ],
      "text/plain": [
       "   ID       y  X0 X1  X2 X3 X4 X5 X6 X8  ...  X375  X376  X377  X378  X379  \\\n",
       "0   0  130.81   k  v  at  a  d  u  j  o  ...     0     0     1     0     0   \n",
       "1   6   88.53   k  t  av  e  d  y  l  o  ...     1     0     0     0     0   \n",
       "2   7   76.26  az  w   n  c  d  x  j  x  ...     0     0     0     0     0   \n",
       "3   9   80.62  az  t   n  f  d  x  l  e  ...     0     0     0     0     0   \n",
       "4  13   78.02  az  v   n  f  d  h  d  n  ...     0     0     0     0     0   \n",
       "\n",
       "   X380  X382  X383  X384  X385  \n",
       "0     0     0     0     0     0  \n",
       "1     0     0     0     0     0  \n",
       "2     0     1     0     0     0  \n",
       "3     0     0     0     0     0  \n",
       "4     0     0     0     0     0  \n",
       "\n",
       "[5 rows x 378 columns]"
      ]
     },
     "execution_count": 2,
     "metadata": {},
     "output_type": "execute_result"
    }
   ],
   "source": [
    "df_train = pd.read_csv(\"train.csv\")\n",
    "df_train.head()"
   ]
  },
  {
   "cell_type": "code",
   "execution_count": 3,
   "metadata": {},
   "outputs": [
    {
     "data": {
      "text/plain": [
       "(4209, 378)"
      ]
     },
     "execution_count": 3,
     "metadata": {},
     "output_type": "execute_result"
    }
   ],
   "source": [
    "df_train.shape"
   ]
  },
  {
   "cell_type": "markdown",
   "metadata": {},
   "source": [
    "### Collecting the y values in an array"
   ]
  },
  {
   "cell_type": "code",
   "execution_count": 4,
   "metadata": {},
   "outputs": [],
   "source": [
    "y_train = df_train['y'].values"
   ]
  },
  {
   "cell_type": "markdown",
   "metadata": {},
   "source": [
    "### Understanding the datatypes "
   ]
  },
  {
   "cell_type": "code",
   "execution_count": 5,
   "metadata": {},
   "outputs": [
    {
     "name": "stdout",
     "output_type": "stream",
     "text": [
      "Number of features: 376\n"
     ]
    }
   ],
   "source": [
    "colss = [c for c in df_train.columns if 'X' in c ]\n",
    "print('Number of features: {}'.format(len(colss)))"
   ]
  },
  {
   "cell_type": "code",
   "execution_count": 6,
   "metadata": {},
   "outputs": [
    {
     "name": "stdout",
     "output_type": "stream",
     "text": [
      "Feature types:\n"
     ]
    },
    {
     "data": {
      "text/plain": [
       "int64     368\n",
       "object      8\n",
       "dtype: int64"
      ]
     },
     "execution_count": 6,
     "metadata": {},
     "output_type": "execute_result"
    }
   ],
   "source": [
    "print('Feature types:')\n",
    "df_train[colss].dtypes.value_counts()"
   ]
  },
  {
   "cell_type": "markdown",
   "metadata": {},
   "source": [
    "### Count the data in each of the columns"
   ]
  },
  {
   "cell_type": "code",
   "execution_count": 7,
   "metadata": {},
   "outputs": [],
   "source": [
    "counts = [[], [], []]\n",
    "for c in colss:\n",
    "    typss = df_train[c].dtype\n",
    "    uniq = len(np.unique(df_train[c]))\n",
    "    if uniq == 1:\n",
    "        counts[0].append(c)\n",
    "    elif uniq== 2 and typss == np.int64:\n",
    "        counts[1].append(c)\n",
    "    else:\n",
    "        counts[2].append(c)"
   ]
  },
  {
   "cell_type": "code",
   "execution_count": 8,
   "metadata": {},
   "outputs": [
    {
     "name": "stdout",
     "output_type": "stream",
     "text": [
      "Constant features: 12 Binary features: 356 Categorical features:8 \n",
      " \n",
      "Constant features: ['X11', 'X93', 'X107', 'X233', 'X235', 'X268', 'X289', 'X290', 'X293', 'X297', 'X330', 'X347']\n",
      "Categorical features: ['X0', 'X1', 'X2', 'X3', 'X4', 'X5', 'X6', 'X8']\n"
     ]
    }
   ],
   "source": [
    "print('Constant features: {} Binary features: {} Categorical features:{} \\n '.format(*[len(c) for c in counts]))\n",
    "print('Constant features:', counts[0])\n",
    "print('Categorical features:', counts[2])"
   ]
  },
  {
   "cell_type": "markdown",
   "metadata": {},
   "source": [
    "### Reading the test file"
   ]
  },
  {
   "cell_type": "code",
   "execution_count": 9,
   "metadata": {},
   "outputs": [
    {
     "data": {
      "text/html": [
       "<div>\n",
       "<style scoped>\n",
       "    .dataframe tbody tr th:only-of-type {\n",
       "        vertical-align: middle;\n",
       "    }\n",
       "\n",
       "    .dataframe tbody tr th {\n",
       "        vertical-align: top;\n",
       "    }\n",
       "\n",
       "    .dataframe thead th {\n",
       "        text-align: right;\n",
       "    }\n",
       "</style>\n",
       "<table border=\"1\" class=\"dataframe\">\n",
       "  <thead>\n",
       "    <tr style=\"text-align: right;\">\n",
       "      <th></th>\n",
       "      <th>ID</th>\n",
       "      <th>X0</th>\n",
       "      <th>X1</th>\n",
       "      <th>X2</th>\n",
       "      <th>X3</th>\n",
       "      <th>X4</th>\n",
       "      <th>X5</th>\n",
       "      <th>X6</th>\n",
       "      <th>X8</th>\n",
       "      <th>X10</th>\n",
       "      <th>...</th>\n",
       "      <th>X375</th>\n",
       "      <th>X376</th>\n",
       "      <th>X377</th>\n",
       "      <th>X378</th>\n",
       "      <th>X379</th>\n",
       "      <th>X380</th>\n",
       "      <th>X382</th>\n",
       "      <th>X383</th>\n",
       "      <th>X384</th>\n",
       "      <th>X385</th>\n",
       "    </tr>\n",
       "  </thead>\n",
       "  <tbody>\n",
       "    <tr>\n",
       "      <th>0</th>\n",
       "      <td>1</td>\n",
       "      <td>az</td>\n",
       "      <td>v</td>\n",
       "      <td>n</td>\n",
       "      <td>f</td>\n",
       "      <td>d</td>\n",
       "      <td>t</td>\n",
       "      <td>a</td>\n",
       "      <td>w</td>\n",
       "      <td>0</td>\n",
       "      <td>...</td>\n",
       "      <td>0</td>\n",
       "      <td>0</td>\n",
       "      <td>0</td>\n",
       "      <td>1</td>\n",
       "      <td>0</td>\n",
       "      <td>0</td>\n",
       "      <td>0</td>\n",
       "      <td>0</td>\n",
       "      <td>0</td>\n",
       "      <td>0</td>\n",
       "    </tr>\n",
       "    <tr>\n",
       "      <th>1</th>\n",
       "      <td>2</td>\n",
       "      <td>t</td>\n",
       "      <td>b</td>\n",
       "      <td>ai</td>\n",
       "      <td>a</td>\n",
       "      <td>d</td>\n",
       "      <td>b</td>\n",
       "      <td>g</td>\n",
       "      <td>y</td>\n",
       "      <td>0</td>\n",
       "      <td>...</td>\n",
       "      <td>0</td>\n",
       "      <td>0</td>\n",
       "      <td>1</td>\n",
       "      <td>0</td>\n",
       "      <td>0</td>\n",
       "      <td>0</td>\n",
       "      <td>0</td>\n",
       "      <td>0</td>\n",
       "      <td>0</td>\n",
       "      <td>0</td>\n",
       "    </tr>\n",
       "    <tr>\n",
       "      <th>2</th>\n",
       "      <td>3</td>\n",
       "      <td>az</td>\n",
       "      <td>v</td>\n",
       "      <td>as</td>\n",
       "      <td>f</td>\n",
       "      <td>d</td>\n",
       "      <td>a</td>\n",
       "      <td>j</td>\n",
       "      <td>j</td>\n",
       "      <td>0</td>\n",
       "      <td>...</td>\n",
       "      <td>0</td>\n",
       "      <td>0</td>\n",
       "      <td>0</td>\n",
       "      <td>1</td>\n",
       "      <td>0</td>\n",
       "      <td>0</td>\n",
       "      <td>0</td>\n",
       "      <td>0</td>\n",
       "      <td>0</td>\n",
       "      <td>0</td>\n",
       "    </tr>\n",
       "    <tr>\n",
       "      <th>3</th>\n",
       "      <td>4</td>\n",
       "      <td>az</td>\n",
       "      <td>l</td>\n",
       "      <td>n</td>\n",
       "      <td>f</td>\n",
       "      <td>d</td>\n",
       "      <td>z</td>\n",
       "      <td>l</td>\n",
       "      <td>n</td>\n",
       "      <td>0</td>\n",
       "      <td>...</td>\n",
       "      <td>0</td>\n",
       "      <td>0</td>\n",
       "      <td>0</td>\n",
       "      <td>1</td>\n",
       "      <td>0</td>\n",
       "      <td>0</td>\n",
       "      <td>0</td>\n",
       "      <td>0</td>\n",
       "      <td>0</td>\n",
       "      <td>0</td>\n",
       "    </tr>\n",
       "    <tr>\n",
       "      <th>4</th>\n",
       "      <td>5</td>\n",
       "      <td>w</td>\n",
       "      <td>s</td>\n",
       "      <td>as</td>\n",
       "      <td>c</td>\n",
       "      <td>d</td>\n",
       "      <td>y</td>\n",
       "      <td>i</td>\n",
       "      <td>m</td>\n",
       "      <td>0</td>\n",
       "      <td>...</td>\n",
       "      <td>1</td>\n",
       "      <td>0</td>\n",
       "      <td>0</td>\n",
       "      <td>0</td>\n",
       "      <td>0</td>\n",
       "      <td>0</td>\n",
       "      <td>0</td>\n",
       "      <td>0</td>\n",
       "      <td>0</td>\n",
       "      <td>0</td>\n",
       "    </tr>\n",
       "  </tbody>\n",
       "</table>\n",
       "<p>5 rows × 377 columns</p>\n",
       "</div>"
      ],
      "text/plain": [
       "   ID  X0 X1  X2 X3 X4 X5 X6 X8  X10  ...  X375  X376  X377  X378  X379  X380  \\\n",
       "0   1  az  v   n  f  d  t  a  w    0  ...     0     0     0     1     0     0   \n",
       "1   2   t  b  ai  a  d  b  g  y    0  ...     0     0     1     0     0     0   \n",
       "2   3  az  v  as  f  d  a  j  j    0  ...     0     0     0     1     0     0   \n",
       "3   4  az  l   n  f  d  z  l  n    0  ...     0     0     0     1     0     0   \n",
       "4   5   w  s  as  c  d  y  i  m    0  ...     1     0     0     0     0     0   \n",
       "\n",
       "   X382  X383  X384  X385  \n",
       "0     0     0     0     0  \n",
       "1     0     0     0     0  \n",
       "2     0     0     0     0  \n",
       "3     0     0     0     0  \n",
       "4     0     0     0     0  \n",
       "\n",
       "[5 rows x 377 columns]"
      ]
     },
     "execution_count": 9,
     "metadata": {},
     "output_type": "execute_result"
    }
   ],
   "source": [
    "df_test=  pd.read_csv('test.csv')\n",
    "df_test.head()"
   ]
  },
  {
   "cell_type": "code",
   "execution_count": 10,
   "metadata": {},
   "outputs": [
    {
     "data": {
      "text/plain": [
       "(4209, 377)"
      ]
     },
     "execution_count": 10,
     "metadata": {},
     "output_type": "execute_result"
    }
   ],
   "source": [
    "df_test.shape"
   ]
  },
  {
   "cell_type": "code",
   "execution_count": 11,
   "metadata": {},
   "outputs": [],
   "source": [
    "usable_columns = list(set(df_train.columns) - set(['ID', 'y']))\n",
    "y_train = df_train['y'].values\n",
    "id_test = df_test['ID'].values"
   ]
  },
  {
   "cell_type": "code",
   "execution_count": 12,
   "metadata": {},
   "outputs": [],
   "source": [
    "x_train = df_train[usable_columns]\n",
    "x_test = df_test[usable_columns]"
   ]
  },
  {
   "cell_type": "markdown",
   "metadata": {},
   "source": [
    "### checking for null and unique value in both test and train sets"
   ]
  },
  {
   "cell_type": "code",
   "execution_count": 13,
   "metadata": {},
   "outputs": [
    {
     "name": "stdout",
     "output_type": "stream",
     "text": [
      "There are no missing values in the dataframe\n",
      "There are no missing values in the dataframe\n"
     ]
    }
   ],
   "source": [
    "def check_missing_values(df):\n",
    "    if df.isnull().any().any():\n",
    "        print(\"There are missing values in the dataframe\")\n",
    "    else:\n",
    "        print(\"There are no missing values in the dataframe\")\n",
    "check_missing_values(df_train)\n",
    "check_missing_values(df_test)"
   ]
  },
  {
   "cell_type": "code",
   "execution_count": 14,
   "metadata": {},
   "outputs": [],
   "source": [
    "### To check the zero variance in the columns and to remove those variables"
   ]
  },
  {
   "cell_type": "code",
   "execution_count": 15,
   "metadata": {},
   "outputs": [
    {
     "name": "stderr",
     "output_type": "stream",
     "text": [
      "/usr/local/lib/python3.7/site-packages/ipykernel_launcher.py:8: SettingWithCopyWarning: \n",
      "A value is trying to be set on a copy of a slice from a DataFrame.\n",
      "Try using .loc[row_indexer,col_indexer] = value instead\n",
      "\n",
      "See the caveats in the documentation: https://pandas.pydata.org/pandas-docs/stable/user_guide/indexing.html#returning-a-view-versus-a-copy\n",
      "  \n",
      "/usr/local/lib/python3.7/site-packages/ipykernel_launcher.py:9: SettingWithCopyWarning: \n",
      "A value is trying to be set on a copy of a slice from a DataFrame.\n",
      "Try using .loc[row_indexer,col_indexer] = value instead\n",
      "\n",
      "See the caveats in the documentation: https://pandas.pydata.org/pandas-docs/stable/user_guide/indexing.html#returning-a-view-versus-a-copy\n",
      "  if __name__ == '__main__':\n"
     ]
    },
    {
     "data": {
      "text/html": [
       "<div>\n",
       "<style scoped>\n",
       "    .dataframe tbody tr th:only-of-type {\n",
       "        vertical-align: middle;\n",
       "    }\n",
       "\n",
       "    .dataframe tbody tr th {\n",
       "        vertical-align: top;\n",
       "    }\n",
       "\n",
       "    .dataframe thead th {\n",
       "        text-align: right;\n",
       "    }\n",
       "</style>\n",
       "<table border=\"1\" class=\"dataframe\">\n",
       "  <thead>\n",
       "    <tr style=\"text-align: right;\">\n",
       "      <th></th>\n",
       "      <th>X115</th>\n",
       "      <th>X95</th>\n",
       "      <th>X75</th>\n",
       "      <th>X358</th>\n",
       "      <th>X353</th>\n",
       "      <th>X157</th>\n",
       "      <th>X126</th>\n",
       "      <th>X277</th>\n",
       "      <th>X172</th>\n",
       "      <th>X31</th>\n",
       "      <th>...</th>\n",
       "      <th>X80</th>\n",
       "      <th>X243</th>\n",
       "      <th>X300</th>\n",
       "      <th>X140</th>\n",
       "      <th>X185</th>\n",
       "      <th>X174</th>\n",
       "      <th>X269</th>\n",
       "      <th>X83</th>\n",
       "      <th>X164</th>\n",
       "      <th>X329</th>\n",
       "    </tr>\n",
       "  </thead>\n",
       "  <tbody>\n",
       "    <tr>\n",
       "      <th>0</th>\n",
       "      <td>0</td>\n",
       "      <td>0</td>\n",
       "      <td>0</td>\n",
       "      <td>0</td>\n",
       "      <td>0</td>\n",
       "      <td>0</td>\n",
       "      <td>0</td>\n",
       "      <td>0</td>\n",
       "      <td>0</td>\n",
       "      <td>1</td>\n",
       "      <td>...</td>\n",
       "      <td>0</td>\n",
       "      <td>0</td>\n",
       "      <td>0</td>\n",
       "      <td>0</td>\n",
       "      <td>0</td>\n",
       "      <td>0</td>\n",
       "      <td>0</td>\n",
       "      <td>0</td>\n",
       "      <td>0</td>\n",
       "      <td>1</td>\n",
       "    </tr>\n",
       "    <tr>\n",
       "      <th>1</th>\n",
       "      <td>0</td>\n",
       "      <td>0</td>\n",
       "      <td>0</td>\n",
       "      <td>0</td>\n",
       "      <td>0</td>\n",
       "      <td>0</td>\n",
       "      <td>0</td>\n",
       "      <td>0</td>\n",
       "      <td>0</td>\n",
       "      <td>1</td>\n",
       "      <td>...</td>\n",
       "      <td>1</td>\n",
       "      <td>0</td>\n",
       "      <td>0</td>\n",
       "      <td>0</td>\n",
       "      <td>0</td>\n",
       "      <td>0</td>\n",
       "      <td>0</td>\n",
       "      <td>0</td>\n",
       "      <td>0</td>\n",
       "      <td>1</td>\n",
       "    </tr>\n",
       "    <tr>\n",
       "      <th>2</th>\n",
       "      <td>0</td>\n",
       "      <td>0</td>\n",
       "      <td>1</td>\n",
       "      <td>1</td>\n",
       "      <td>0</td>\n",
       "      <td>1</td>\n",
       "      <td>0</td>\n",
       "      <td>0</td>\n",
       "      <td>0</td>\n",
       "      <td>1</td>\n",
       "      <td>...</td>\n",
       "      <td>1</td>\n",
       "      <td>0</td>\n",
       "      <td>0</td>\n",
       "      <td>0</td>\n",
       "      <td>0</td>\n",
       "      <td>0</td>\n",
       "      <td>0</td>\n",
       "      <td>0</td>\n",
       "      <td>0</td>\n",
       "      <td>0</td>\n",
       "    </tr>\n",
       "    <tr>\n",
       "      <th>3</th>\n",
       "      <td>0</td>\n",
       "      <td>0</td>\n",
       "      <td>0</td>\n",
       "      <td>1</td>\n",
       "      <td>0</td>\n",
       "      <td>1</td>\n",
       "      <td>0</td>\n",
       "      <td>0</td>\n",
       "      <td>0</td>\n",
       "      <td>1</td>\n",
       "      <td>...</td>\n",
       "      <td>1</td>\n",
       "      <td>0</td>\n",
       "      <td>0</td>\n",
       "      <td>0</td>\n",
       "      <td>0</td>\n",
       "      <td>1</td>\n",
       "      <td>0</td>\n",
       "      <td>0</td>\n",
       "      <td>0</td>\n",
       "      <td>0</td>\n",
       "    </tr>\n",
       "    <tr>\n",
       "      <th>4</th>\n",
       "      <td>0</td>\n",
       "      <td>0</td>\n",
       "      <td>0</td>\n",
       "      <td>1</td>\n",
       "      <td>0</td>\n",
       "      <td>1</td>\n",
       "      <td>0</td>\n",
       "      <td>0</td>\n",
       "      <td>0</td>\n",
       "      <td>1</td>\n",
       "      <td>...</td>\n",
       "      <td>1</td>\n",
       "      <td>0</td>\n",
       "      <td>0</td>\n",
       "      <td>0</td>\n",
       "      <td>0</td>\n",
       "      <td>0</td>\n",
       "      <td>0</td>\n",
       "      <td>0</td>\n",
       "      <td>0</td>\n",
       "      <td>0</td>\n",
       "    </tr>\n",
       "  </tbody>\n",
       "</table>\n",
       "<p>5 rows × 376 columns</p>\n",
       "</div>"
      ],
      "text/plain": [
       "   X115  X95  X75  X358  X353  X157  X126  X277  X172  X31  ...  X80  X243  \\\n",
       "0     0    0    0     0     0     0     0     0     0    1  ...    0     0   \n",
       "1     0    0    0     0     0     0     0     0     0    1  ...    1     0   \n",
       "2     0    0    1     1     0     1     0     0     0    1  ...    1     0   \n",
       "3     0    0    0     1     0     1     0     0     0    1  ...    1     0   \n",
       "4     0    0    0     1     0     1     0     0     0    1  ...    1     0   \n",
       "\n",
       "   X300  X140  X185  X174  X269  X83  X164  X329  \n",
       "0     0     0     0     0     0    0     0     1  \n",
       "1     0     0     0     0     0    0     0     1  \n",
       "2     0     0     0     0     0    0     0     0  \n",
       "3     0     0     0     1     0    0     0     0  \n",
       "4     0     0     0     0     0    0     0     0  \n",
       "\n",
       "[5 rows x 376 columns]"
      ]
     },
     "execution_count": 15,
     "metadata": {},
     "output_type": "execute_result"
    }
   ],
   "source": [
    "for column in usable_columns:\n",
    "    cardinal = len(np.unique(x_train[column]))\n",
    "    if cardinal == 1:\n",
    "        x_train.drop(column, axis =1)\n",
    "        x_test.drop(column, axis = 1)\n",
    "    if cardinal >2:\n",
    "        mapper = lambda x: sum([ord(digit) for digit in x])\n",
    "        x_train[column] = x_train[column].apply(mapper)\n",
    "        x_test[column] = x_test[column].apply(mapper)\n",
    "x_train.head()"
   ]
  },
  {
   "cell_type": "code",
   "execution_count": 16,
   "metadata": {},
   "outputs": [
    {
     "name": "stdout",
     "output_type": "stream",
     "text": [
      "Feature types:\n"
     ]
    },
    {
     "data": {
      "text/plain": [
       "int64    376\n",
       "dtype: int64"
      ]
     },
     "execution_count": 16,
     "metadata": {},
     "output_type": "execute_result"
    }
   ],
   "source": [
    "print('Feature types:')\n",
    "x_train[colss].dtypes.value_counts()"
   ]
  },
  {
   "cell_type": "markdown",
   "metadata": {},
   "source": [
    "### Perform dimensionality Reduction"
   ]
  },
  {
   "cell_type": "code",
   "execution_count": 17,
   "metadata": {},
   "outputs": [],
   "source": [
    "from sklearn.decomposition import PCA"
   ]
  },
  {
   "cell_type": "code",
   "execution_count": 18,
   "metadata": {},
   "outputs": [],
   "source": [
    "n_comp = 12\n",
    "pca = PCA(n_components = n_comp, random_state = 420)\n",
    "pca2_results_train = pca.fit_transform(x_train)\n",
    "pca2_results_test = pca.transform(x_test)"
   ]
  },
  {
   "cell_type": "markdown",
   "metadata": {},
   "source": [
    "### Training using XGBoost"
   ]
  },
  {
   "cell_type": "code",
   "execution_count": 19,
   "metadata": {},
   "outputs": [],
   "source": [
    "import xgboost as xgb\n",
    "from sklearn.metrics import r2_score\n",
    "from sklearn.model_selection import train_test_split"
   ]
  },
  {
   "cell_type": "code",
   "execution_count": 20,
   "metadata": {},
   "outputs": [],
   "source": [
    "x_train, x_valid, y_train, y_valid = train_test_split(pca2_results_train, y_train, test_size = 0.2, random_state= 400)"
   ]
  },
  {
   "cell_type": "code",
   "execution_count": 21,
   "metadata": {},
   "outputs": [],
   "source": [
    "d_train = xgb.DMatrix(x_train, label = y_train)\n",
    "d_valid = xgb.DMatrix(x_valid, label = y_valid)\n",
    "d_test = xgb.DMatrix(pca2_results_test)"
   ]
  },
  {
   "cell_type": "code",
   "execution_count": 22,
   "metadata": {},
   "outputs": [],
   "source": [
    "params ={}\n",
    "params['Objective'] = 'reg:linear'\n",
    "params['eta'] = 0.02\n",
    "params['max_depth'] = 4"
   ]
  },
  {
   "cell_type": "code",
   "execution_count": 23,
   "metadata": {},
   "outputs": [
    {
     "name": "stdout",
     "output_type": "stream",
     "text": [
      "[09:12:40] WARNING: /workspace/src/learner.cc:328: \n",
      "Parameters: { Objective } might not be used.\n",
      "\n",
      "  This may not be accurate due to some parameters are only used in language bindings but\n",
      "  passed down to XGBoost core.  Or some parameters are not used but slip through this\n",
      "  verification. Please open an issue if you find above cases.\n",
      "\n",
      "\n",
      "[0]\ttrain-rmse:98.66840\tvalid-rmse:100.20478\ttrain-r2:-62.02620\tvalid-r2:-53.51754\n",
      "Multiple eval metrics have been passed: 'valid-r2' will be used for early stopping.\n",
      "\n",
      "Will train until valid-r2 hasn't improved in 50 rounds.\n",
      "[10]\ttrain-rmse:80.85765\tvalid-rmse:82.33318\ttrain-r2:-41.32599\tvalid-r2:-35.80520\n",
      "[20]\ttrain-rmse:66.34142\tvalid-rmse:67.79385\ttrain-r2:-27.49276\tvalid-r2:-23.95399\n",
      "[30]\ttrain-rmse:54.52412\tvalid-rmse:55.96837\ttrain-r2:-18.24608\tvalid-r2:-16.00766\n",
      "[40]\ttrain-rmse:44.91967\tvalid-rmse:46.36821\ttrain-r2:-12.06285\tvalid-r2:-10.67347\n",
      "[50]\ttrain-rmse:37.12995\tvalid-rmse:38.60696\ttrain-r2:-7.92511\tvalid-r2:-7.09265\n",
      "[60]\ttrain-rmse:30.83536\tvalid-rmse:32.36339\ttrain-r2:-5.15550\tvalid-r2:-4.68679\n",
      "[70]\ttrain-rmse:25.76032\tvalid-rmse:27.37361\ttrain-r2:-3.29603\tvalid-r2:-3.06840\n",
      "[80]\ttrain-rmse:21.69613\tvalid-rmse:23.41591\ttrain-r2:-2.04740\tvalid-r2:-1.97702\n",
      "[90]\ttrain-rmse:18.47291\tvalid-rmse:20.31336\ttrain-r2:-1.20920\tvalid-r2:-1.24039\n",
      "[100]\ttrain-rmse:15.94161\tvalid-rmse:17.91478\ttrain-r2:-0.64524\tvalid-r2:-0.74254\n",
      "[110]\ttrain-rmse:13.98122\tvalid-rmse:16.07813\ttrain-r2:-0.26548\tvalid-r2:-0.40356\n",
      "[120]\ttrain-rmse:12.48486\tvalid-rmse:14.70905\ttrain-r2:-0.00910\tvalid-r2:-0.17470\n",
      "[130]\ttrain-rmse:11.36270\tvalid-rmse:13.69834\ttrain-r2:0.16415\tvalid-r2:-0.01882\n",
      "[140]\ttrain-rmse:10.52681\tvalid-rmse:12.95969\ttrain-r2:0.28260\tvalid-r2:0.08810\n",
      "[150]\ttrain-rmse:9.91553\tvalid-rmse:12.42752\ttrain-r2:0.36350\tvalid-r2:0.16145\n",
      "[160]\ttrain-rmse:9.47296\tvalid-rmse:12.05041\ttrain-r2:0.41905\tvalid-r2:0.21157\n",
      "[170]\ttrain-rmse:9.14625\tvalid-rmse:11.77513\ttrain-r2:0.45843\tvalid-r2:0.24718\n",
      "[180]\ttrain-rmse:8.90815\tvalid-rmse:11.58045\ttrain-r2:0.48626\tvalid-r2:0.27187\n",
      "[190]\ttrain-rmse:8.74081\tvalid-rmse:11.44387\ttrain-r2:0.50538\tvalid-r2:0.28894\n",
      "[200]\ttrain-rmse:8.61590\tvalid-rmse:11.34534\ttrain-r2:0.51942\tvalid-r2:0.30113\n",
      "[210]\ttrain-rmse:8.52384\tvalid-rmse:11.27194\ttrain-r2:0.52963\tvalid-r2:0.31015\n",
      "[220]\ttrain-rmse:8.45851\tvalid-rmse:11.21980\ttrain-r2:0.53682\tvalid-r2:0.31651\n",
      "[230]\ttrain-rmse:8.40025\tvalid-rmse:11.18204\ttrain-r2:0.54317\tvalid-r2:0.32111\n",
      "[240]\ttrain-rmse:8.35564\tvalid-rmse:11.15527\ttrain-r2:0.54802\tvalid-r2:0.32435\n",
      "[250]\ttrain-rmse:8.30647\tvalid-rmse:11.13015\ttrain-r2:0.55332\tvalid-r2:0.32739\n",
      "[260]\ttrain-rmse:8.27404\tvalid-rmse:11.11509\ttrain-r2:0.55680\tvalid-r2:0.32921\n",
      "[270]\ttrain-rmse:8.23951\tvalid-rmse:11.09774\ttrain-r2:0.56049\tvalid-r2:0.33130\n",
      "[280]\ttrain-rmse:8.20863\tvalid-rmse:11.08711\ttrain-r2:0.56378\tvalid-r2:0.33259\n",
      "[290]\ttrain-rmse:8.17919\tvalid-rmse:11.07804\ttrain-r2:0.56690\tvalid-r2:0.33368\n",
      "[300]\ttrain-rmse:8.14959\tvalid-rmse:11.06896\ttrain-r2:0.57003\tvalid-r2:0.33477\n",
      "[310]\ttrain-rmse:8.12335\tvalid-rmse:11.06209\ttrain-r2:0.57280\tvalid-r2:0.33559\n",
      "[320]\ttrain-rmse:8.09798\tvalid-rmse:11.05866\ttrain-r2:0.57546\tvalid-r2:0.33601\n",
      "[330]\ttrain-rmse:8.07122\tvalid-rmse:11.05310\ttrain-r2:0.57826\tvalid-r2:0.33667\n",
      "[340]\ttrain-rmse:8.04298\tvalid-rmse:11.05006\ttrain-r2:0.58121\tvalid-r2:0.33704\n",
      "[350]\ttrain-rmse:8.02259\tvalid-rmse:11.04733\ttrain-r2:0.58333\tvalid-r2:0.33737\n",
      "[360]\ttrain-rmse:7.99788\tvalid-rmse:11.04802\ttrain-r2:0.58589\tvalid-r2:0.33728\n",
      "[370]\ttrain-rmse:7.97764\tvalid-rmse:11.04467\ttrain-r2:0.58798\tvalid-r2:0.33768\n",
      "[380]\ttrain-rmse:7.95776\tvalid-rmse:11.04146\ttrain-r2:0.59003\tvalid-r2:0.33807\n",
      "[390]\ttrain-rmse:7.93616\tvalid-rmse:11.03924\ttrain-r2:0.59226\tvalid-r2:0.33833\n",
      "[400]\ttrain-rmse:7.91491\tvalid-rmse:11.03427\ttrain-r2:0.59444\tvalid-r2:0.33893\n",
      "[410]\ttrain-rmse:7.89580\tvalid-rmse:11.03386\ttrain-r2:0.59639\tvalid-r2:0.33898\n",
      "[420]\ttrain-rmse:7.87308\tvalid-rmse:11.03293\ttrain-r2:0.59871\tvalid-r2:0.33909\n",
      "[430]\ttrain-rmse:7.85158\tvalid-rmse:11.02991\ttrain-r2:0.60090\tvalid-r2:0.33945\n",
      "[440]\ttrain-rmse:7.83037\tvalid-rmse:11.02977\ttrain-r2:0.60306\tvalid-r2:0.33947\n",
      "[450]\ttrain-rmse:7.81309\tvalid-rmse:11.02790\ttrain-r2:0.60481\tvalid-r2:0.33970\n",
      "[460]\ttrain-rmse:7.79512\tvalid-rmse:11.02725\ttrain-r2:0.60662\tvalid-r2:0.33977\n",
      "[470]\ttrain-rmse:7.77302\tvalid-rmse:11.02415\ttrain-r2:0.60885\tvalid-r2:0.34014\n",
      "[480]\ttrain-rmse:7.75936\tvalid-rmse:11.02315\ttrain-r2:0.61022\tvalid-r2:0.34026\n",
      "[490]\ttrain-rmse:7.74130\tvalid-rmse:11.02004\ttrain-r2:0.61203\tvalid-r2:0.34064\n",
      "[500]\ttrain-rmse:7.71995\tvalid-rmse:11.01991\ttrain-r2:0.61417\tvalid-r2:0.34065\n",
      "[510]\ttrain-rmse:7.69988\tvalid-rmse:11.01831\ttrain-r2:0.61618\tvalid-r2:0.34084\n",
      "[520]\ttrain-rmse:7.67799\tvalid-rmse:11.01541\ttrain-r2:0.61835\tvalid-r2:0.34119\n",
      "[530]\ttrain-rmse:7.65313\tvalid-rmse:11.01393\ttrain-r2:0.62082\tvalid-r2:0.34137\n",
      "[540]\ttrain-rmse:7.63131\tvalid-rmse:11.01328\ttrain-r2:0.62298\tvalid-r2:0.34144\n",
      "[550]\ttrain-rmse:7.60817\tvalid-rmse:11.01196\ttrain-r2:0.62526\tvalid-r2:0.34160\n",
      "[560]\ttrain-rmse:7.58465\tvalid-rmse:11.01068\ttrain-r2:0.62758\tvalid-r2:0.34175\n",
      "[570]\ttrain-rmse:7.56280\tvalid-rmse:11.00773\ttrain-r2:0.62972\tvalid-r2:0.34211\n",
      "[580]\ttrain-rmse:7.54293\tvalid-rmse:11.00628\ttrain-r2:0.63166\tvalid-r2:0.34228\n",
      "[590]\ttrain-rmse:7.52440\tvalid-rmse:11.00764\ttrain-r2:0.63347\tvalid-r2:0.34212\n",
      "[600]\ttrain-rmse:7.49753\tvalid-rmse:11.00708\ttrain-r2:0.63608\tvalid-r2:0.34219\n",
      "[610]\ttrain-rmse:7.47554\tvalid-rmse:11.00758\ttrain-r2:0.63822\tvalid-r2:0.34213\n",
      "[620]\ttrain-rmse:7.45711\tvalid-rmse:11.00872\ttrain-r2:0.64000\tvalid-r2:0.34199\n",
      "Stopping. Best iteration:\n",
      "[577]\ttrain-rmse:7.54684\tvalid-rmse:11.00553\ttrain-r2:0.63128\tvalid-r2:0.34237\n",
      "\n"
     ]
    }
   ],
   "source": [
    "def xgb_r2_score(preds, dtrain):\n",
    "    labels = dtrain.get_label()\n",
    "    return 'r2', r2_score(labels, preds)\n",
    "watchlist = [(d_train ,'train') , (d_valid, 'valid')]\n",
    "clf = xgb.train(params, d_train,\n",
    "               1000, watchlist, early_stopping_rounds = 50, \n",
    "               feval = xgb_r2_score, maximize = True, verbose_eval = 10)\n"
   ]
  },
  {
   "cell_type": "markdown",
   "metadata": {},
   "source": [
    "### Predicting test_df using xgboost"
   ]
  },
  {
   "cell_type": "code",
   "execution_count": 24,
   "metadata": {},
   "outputs": [
    {
     "data": {
      "text/plain": [
       "array([ 82.3745  ,  97.92681 ,  77.87611 , ...,  96.64955 , 107.781845,\n",
       "        94.73982 ], dtype=float32)"
      ]
     },
     "execution_count": 24,
     "metadata": {},
     "output_type": "execute_result"
    }
   ],
   "source": [
    "pre_test = clf.predict(d_test)\n",
    "pre_test"
   ]
  },
  {
   "cell_type": "code",
   "execution_count": 25,
   "metadata": {},
   "outputs": [],
   "source": [
    "sub = pd.DataFrame()\n",
    "sub['ID'] = id_test\n",
    "sub['y'] = pre_test\n",
    "sub.to_csv('xgb.csv', index = False)\n"
   ]
  },
  {
   "cell_type": "code",
   "execution_count": 26,
   "metadata": {},
   "outputs": [
    {
     "data": {
      "text/html": [
       "<div>\n",
       "<style scoped>\n",
       "    .dataframe tbody tr th:only-of-type {\n",
       "        vertical-align: middle;\n",
       "    }\n",
       "\n",
       "    .dataframe tbody tr th {\n",
       "        vertical-align: top;\n",
       "    }\n",
       "\n",
       "    .dataframe thead th {\n",
       "        text-align: right;\n",
       "    }\n",
       "</style>\n",
       "<table border=\"1\" class=\"dataframe\">\n",
       "  <thead>\n",
       "    <tr style=\"text-align: right;\">\n",
       "      <th></th>\n",
       "      <th>ID</th>\n",
       "      <th>y</th>\n",
       "    </tr>\n",
       "  </thead>\n",
       "  <tbody>\n",
       "    <tr>\n",
       "      <th>0</th>\n",
       "      <td>1</td>\n",
       "      <td>82.374496</td>\n",
       "    </tr>\n",
       "    <tr>\n",
       "      <th>1</th>\n",
       "      <td>2</td>\n",
       "      <td>97.926811</td>\n",
       "    </tr>\n",
       "    <tr>\n",
       "      <th>2</th>\n",
       "      <td>3</td>\n",
       "      <td>77.876106</td>\n",
       "    </tr>\n",
       "    <tr>\n",
       "      <th>3</th>\n",
       "      <td>4</td>\n",
       "      <td>76.681335</td>\n",
       "    </tr>\n",
       "    <tr>\n",
       "      <th>4</th>\n",
       "      <td>5</td>\n",
       "      <td>110.771500</td>\n",
       "    </tr>\n",
       "  </tbody>\n",
       "</table>\n",
       "</div>"
      ],
      "text/plain": [
       "   ID           y\n",
       "0   1   82.374496\n",
       "1   2   97.926811\n",
       "2   3   77.876106\n",
       "3   4   76.681335\n",
       "4   5  110.771500"
      ]
     },
     "execution_count": 26,
     "metadata": {},
     "output_type": "execute_result"
    }
   ],
   "source": [
    "sub.head()"
   ]
  },
  {
   "cell_type": "code",
   "execution_count": null,
   "metadata": {},
   "outputs": [],
   "source": []
  }
 ],
 "metadata": {
  "kernelspec": {
   "display_name": "Python 3",
   "language": "python",
   "name": "python3"
  },
  "language_info": {
   "codemirror_mode": {
    "name": "ipython",
    "version": 3
   },
   "file_extension": ".py",
   "mimetype": "text/x-python",
   "name": "python",
   "nbconvert_exporter": "python",
   "pygments_lexer": "ipython3",
   "version": "3.7.6"
  }
 },
 "nbformat": 4,
 "nbformat_minor": 4
}
